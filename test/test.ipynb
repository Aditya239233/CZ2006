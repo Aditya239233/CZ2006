{
 "metadata": {
  "language_info": {
   "codemirror_mode": {
    "name": "ipython",
    "version": 3
   },
   "file_extension": ".py",
   "mimetype": "text/x-python",
   "name": "python",
   "nbconvert_exporter": "python",
   "pygments_lexer": "ipython3",
   "version": "3.8.5-final"
  },
  "orig_nbformat": 2,
  "kernelspec": {
   "name": "python3",
   "display_name": "Python 3"
  }
 },
 "nbformat": 4,
 "nbformat_minor": 2,
 "cells": [
  {
   "cell_type": "code",
   "execution_count": 1,
   "metadata": {},
   "outputs": [],
   "source": [
    "import pandas as pd \n",
    "data = pd.read_csv(\"./data/data.csv\")"
   ]
  },
  {
   "cell_type": "code",
   "execution_count": 2,
   "metadata": {},
   "outputs": [
    {
     "output_type": "execute_result",
     "data": {
      "text/plain": [
       "     month        town flat_type block        street_name storey_range  \\\n",
       "0  2017-01  ANG MO KIO    2 ROOM   406  ANG MO KIO AVE 10     10 TO 12   \n",
       "1  2017-01  ANG MO KIO    3 ROOM   108   ANG MO KIO AVE 4     01 TO 03   \n",
       "2  2017-01  ANG MO KIO    3 ROOM   602   ANG MO KIO AVE 5     01 TO 03   \n",
       "3  2017-01  ANG MO KIO    3 ROOM   465  ANG MO KIO AVE 10     04 TO 06   \n",
       "4  2017-01  ANG MO KIO    3 ROOM   601   ANG MO KIO AVE 5     01 TO 03   \n",
       "\n",
       "   floor_area_sqm      flat_model  lease_commence_date     remaining_lease  \\\n",
       "0            44.0        Improved                 1979  61 years 04 months   \n",
       "1            67.0  New Generation                 1978  60 years 07 months   \n",
       "2            67.0  New Generation                 1980  62 years 05 months   \n",
       "3            68.0  New Generation                 1980   62 years 01 month   \n",
       "4            67.0  New Generation                 1980  62 years 05 months   \n",
       "\n",
       "   resale_price  \n",
       "0      232000.0  \n",
       "1      250000.0  \n",
       "2      262000.0  \n",
       "3      265000.0  \n",
       "4      265000.0  "
      ],
      "text/html": "<div>\n<style scoped>\n    .dataframe tbody tr th:only-of-type {\n        vertical-align: middle;\n    }\n\n    .dataframe tbody tr th {\n        vertical-align: top;\n    }\n\n    .dataframe thead th {\n        text-align: right;\n    }\n</style>\n<table border=\"1\" class=\"dataframe\">\n  <thead>\n    <tr style=\"text-align: right;\">\n      <th></th>\n      <th>month</th>\n      <th>town</th>\n      <th>flat_type</th>\n      <th>block</th>\n      <th>street_name</th>\n      <th>storey_range</th>\n      <th>floor_area_sqm</th>\n      <th>flat_model</th>\n      <th>lease_commence_date</th>\n      <th>remaining_lease</th>\n      <th>resale_price</th>\n    </tr>\n  </thead>\n  <tbody>\n    <tr>\n      <th>0</th>\n      <td>2017-01</td>\n      <td>ANG MO KIO</td>\n      <td>2 ROOM</td>\n      <td>406</td>\n      <td>ANG MO KIO AVE 10</td>\n      <td>10 TO 12</td>\n      <td>44.0</td>\n      <td>Improved</td>\n      <td>1979</td>\n      <td>61 years 04 months</td>\n      <td>232000.0</td>\n    </tr>\n    <tr>\n      <th>1</th>\n      <td>2017-01</td>\n      <td>ANG MO KIO</td>\n      <td>3 ROOM</td>\n      <td>108</td>\n      <td>ANG MO KIO AVE 4</td>\n      <td>01 TO 03</td>\n      <td>67.0</td>\n      <td>New Generation</td>\n      <td>1978</td>\n      <td>60 years 07 months</td>\n      <td>250000.0</td>\n    </tr>\n    <tr>\n      <th>2</th>\n      <td>2017-01</td>\n      <td>ANG MO KIO</td>\n      <td>3 ROOM</td>\n      <td>602</td>\n      <td>ANG MO KIO AVE 5</td>\n      <td>01 TO 03</td>\n      <td>67.0</td>\n      <td>New Generation</td>\n      <td>1980</td>\n      <td>62 years 05 months</td>\n      <td>262000.0</td>\n    </tr>\n    <tr>\n      <th>3</th>\n      <td>2017-01</td>\n      <td>ANG MO KIO</td>\n      <td>3 ROOM</td>\n      <td>465</td>\n      <td>ANG MO KIO AVE 10</td>\n      <td>04 TO 06</td>\n      <td>68.0</td>\n      <td>New Generation</td>\n      <td>1980</td>\n      <td>62 years 01 month</td>\n      <td>265000.0</td>\n    </tr>\n    <tr>\n      <th>4</th>\n      <td>2017-01</td>\n      <td>ANG MO KIO</td>\n      <td>3 ROOM</td>\n      <td>601</td>\n      <td>ANG MO KIO AVE 5</td>\n      <td>01 TO 03</td>\n      <td>67.0</td>\n      <td>New Generation</td>\n      <td>1980</td>\n      <td>62 years 05 months</td>\n      <td>265000.0</td>\n    </tr>\n  </tbody>\n</table>\n</div>"
     },
     "metadata": {},
     "execution_count": 2
    }
   ],
   "source": [
    "data.head()"
   ]
  },
  {
   "cell_type": "code",
   "execution_count": 3,
   "metadata": {},
   "outputs": [],
   "source": [
    "flats = pd.DataFrame(data.groupby(\"flat_model\")[\"resale_price\"].mean())"
   ]
  },
  {
   "cell_type": "code",
   "execution_count": 4,
   "metadata": {},
   "outputs": [],
   "source": [
    "flat_types = data[\"flat_model\"].unique()"
   ]
  },
  {
   "cell_type": "code",
   "execution_count": 5,
   "metadata": {},
   "outputs": [
    {
     "output_type": "stream",
     "name": "stdout",
     "text": [
      "Improved 229500.0\nNew Generation 673387.0263157894\nDBSS 609883.0319312251\nStandard 758173.4504504504\nApartment 450858.7672118403\nSimplified 680492.0\nModel A 670184.3824705387\nPremium Apartment 422694.7394872185\nAdjoined flat 702171.7058823529\nModel A-Maisonette 342952.7454545455\nMaisonette 800258.1621621621\nType S1 329543.6207286864\nType S2 463273.682964668\nModel A2 877833.2307692308\nTerrace 746500.0\nImproved-Maisonette 339005.37143705465\nPremium Maisonette 391847.31061946903\nMulti Generation 812082.1060869565\nPremium Apartment Loft 926643.9776119404\n2-room 1031750.5405405406\n"
     ]
    }
   ],
   "source": [
    "for i in range(len(flat_types)):\n",
    "    print(flat_types[i], flats[\"resale_price\"][i])"
   ]
  },
  {
   "cell_type": "code",
   "execution_count": null,
   "metadata": {},
   "outputs": [],
   "source": []
  }
 ]
}